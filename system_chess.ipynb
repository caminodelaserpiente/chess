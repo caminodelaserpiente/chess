{
  "cells": [
    {
      "cell_type": "code",
      "execution_count": null,
      "metadata": {
        "id": "owAXI0QrvTxE"
      },
      "outputs": [],
      "source": [
        "!pip install chess"
      ]
    },
    {
      "cell_type": "code",
      "execution_count": null,
      "metadata": {
        "id": "52k8hyf-3n7l"
      },
      "outputs": [],
      "source": [
        "!pip install CairoSVG"
      ]
    },
    {
      "cell_type": "code",
      "execution_count": null,
      "metadata": {
        "id": "nfq9VZBH-UL_"
      },
      "outputs": [],
      "source": [
        "!pip install opencv-contrib-python"
      ]
    },
    {
      "cell_type": "code",
      "execution_count": 4,
      "metadata": {
        "id": "2tAb9wP4vivd"
      },
      "outputs": [],
      "source": [
        "import chess\n",
        "import chess.pgn\n",
        "import io\n",
        "import os\n",
        "\n",
        "import chess.svg\n",
        "from cairosvg import svg2png\n",
        "\n",
        "import time\n",
        "from IPython.display import display, HTML, clear_output"
      ]
    },
    {
      "cell_type": "code",
      "execution_count": 5,
      "metadata": {
        "id": "wNxy0P4_UgpO"
      },
      "outputs": [],
      "source": [
        "os.mkdir('multimedia')\n",
        "os.mkdir('temp')\n",
        "os.mkdir('anki')"
      ]
    },
    {
      "cell_type": "code",
      "execution_count": 6,
      "metadata": {
        "id": "B8Fw8ztbAexq"
      },
      "outputs": [],
      "source": [
        "def save_board_game(board, uci, cont):\n",
        "  boardsvg = chess.svg.board(board=board)\n",
        "  name_board = str(cont) + str(uci)\n",
        "  name_file = name_board \n",
        "  f = open(\"./temp/\" + name_file + \".svg\", \"w\")\n",
        "  f.write(boardsvg)\n",
        "  f.close()\n",
        "\n",
        "  svg_code = open(\"./temp/\" + name_file + \".svg\", \"rt\").read()\n",
        "  svg2png(bytestring=svg_code,write_to=\"./multimedia/\" + name_file + \".png\")\n",
        "\n",
        "\n",
        "def save_board_stats(board, cont):\n",
        "  boardsvg = chess.svg.board(board=board)\n",
        "  name_board = str(cont) + \"statusboard\" # NAME BOARD INIT\n",
        "  name_file = name_board \n",
        "  f = open(\"./temp/\" + name_file + \".svg\", \"w\")\n",
        "  f.write(boardsvg)\n",
        "  f.close()\n",
        "\n",
        "  svg_code = open(\"./temp/\" + name_file + \".svg\", \"rt\").read()\n",
        "  svg2png(bytestring=svg_code,write_to=\"./multimedia/\" + name_file + \".png\")"
      ]
    },
    {
      "cell_type": "code",
      "execution_count": null,
      "metadata": {
        "id": "XwMnVveHEfO3"
      },
      "outputs": [],
      "source": [
        "def who(player):\n",
        "    return \"White\" if player == chess.WHITE else \"Black\"\n",
        "\n",
        "\n",
        "def display_board(board, use_svg):\n",
        "    if use_svg:\n",
        "        return board._repr_svg_()\n",
        "    else:\n",
        "        return \"<pre>\" + str(board) + \"</pre>\"\n",
        "\n",
        "\n",
        "def play_game(player1, player2, visual=\"svg\", pause=0.1, cont=1):\n",
        "    \"\"\"\n",
        "    playerN1, player2: functions that takes board, return uci move\n",
        "    visual: \"simple\" | \"svg\" | None\n",
        "    \"\"\"\n",
        "    use_svg = (visual == \"svg\")\n",
        "    board = chess.Board() # Notation Forsyth-Edwards\n",
        "    save_board_stats(board, cont)\n",
        "    try:\n",
        "        while not board.is_game_over(claim_draw=True):\n",
        "            if board.turn == chess.WHITE:\n",
        "                uci = player1(board)\n",
        "            else:\n",
        "                uci = player2(board)\n",
        "            name = who(board.turn)\n",
        "            board.push_uci(uci)\n",
        "            \n",
        "            cont += 1\n",
        "            save_board_game(board, uci, cont)\n",
        "\n",
        "            board_stop = display_board(board, use_svg)\n",
        "\n",
        "            html = \"<b>Move %s %s, Play '%s':</b><br/>%s\" % (\n",
        "                       len(board.move_stack), name, uci, board_stop)\n",
        "            if visual is not None:\n",
        "                if visual == \"svg\":\n",
        "                    clear_output(wait=True)\n",
        "                display(HTML(html))\n",
        "                if visual == \"svg\":\n",
        "                    time.sleep(pause)\n",
        "    except KeyboardInterrupt:\n",
        "        msg = \"Game interrupted!\"\n",
        "        return (None, msg, board)\n",
        "    result = None\n",
        "    if board.is_checkmate():\n",
        "        msg = \"checkmate: \" + who(not board.turn) + \" wins!\"\n",
        "        result = not board.turn\n",
        "    elif board.is_stalemate():\n",
        "        msg = \"draw: stalemate\"\n",
        "    elif board.is_fivefold_repetition():\n",
        "        msg = \"draw: 5-fold repetition\"\n",
        "    elif board.is_insufficient_material():\n",
        "        msg = \"draw: insufficient material\"\n",
        "    elif board.can_claim_draw():\n",
        "        msg = \"draw: claim\"\n",
        "    if visual is not None:\n",
        "        print(msg)\n",
        "    return (result, msg, board)\n",
        "\n",
        "\n",
        "def get_move(prompt):\n",
        "    uci = input(prompt)\n",
        "    if uci and uci[0] == \"q\":\n",
        "        raise KeyboardInterrupt()\n",
        "    try:\n",
        "        chess.Move.from_uci(uci)\n",
        "    except:\n",
        "        uci = None\n",
        "    return uci\n",
        "\n",
        "def human_player(board):\n",
        "    display(board)\n",
        "    uci = get_move(\"%s's move [q to quit]> \" % who(board.turn))\n",
        "    legal_uci_moves = [move.uci() for move in board.legal_moves]\n",
        "    while uci not in legal_uci_moves:\n",
        "        print(\"Legal moves: \" + (\",\".join(sorted(legal_uci_moves))))\n",
        "        uci = get_move(\"%s's move[q to quit]> \" % who(board.turn))\n",
        "    return uci"
      ]
    },
    {
      "cell_type": "code",
      "execution_count": null,
      "metadata": {
        "id": "_T5R3lN9Hm5y"
      },
      "outputs": [],
      "source": [
        "play_game(human_player, human_player)"
      ]
    },
    {
      "cell_type": "code",
      "execution_count": null,
      "metadata": {
        "id": "Z9L1r0vjfrtX"
      },
      "outputs": [],
      "source": [
        "import os\n",
        "import imageio\n",
        "import shutil\n",
        "import cv2"
      ]
    },
    {
      "cell_type": "code",
      "execution_count": null,
      "metadata": {
        "id": "vsg66qlx9rqL"
      },
      "outputs": [],
      "source": [
        "# Generate files to anki\n",
        "\n",
        "name_fl = input(\"Name file: >>> \")\n",
        "path = './multimedia/'\n",
        "archivos = sorted(os.listdir(path))\n",
        "\n",
        "def gif(name_fl,archivos,path):\n",
        "  img_array_png = []\n",
        "  #Leer todos los archivos formato imagen desde path\n",
        "  for x in range(0, len(archivos)):\n",
        "      nomArchivo = archivos[x]\n",
        "      dirArchivo = path + str(nomArchivo)\n",
        "      \n",
        "      #Asignar a variable leer_imagen, el nombre de cada imagen\n",
        "      leer_imagen = imageio.imread(dirArchivo)\n",
        "      # añadir imágenes al arreglo img_array\n",
        "      img_array_png.append(leer_imagen)\n",
        "  #Guardar Gif\n",
        "  imageio.mimwrite(\"./anki/\" + name_fl + \".gif\", img_array_png, 'GIF', duration=1.0)\n",
        "gif(name_fl,archivos,path)\n",
        "\n",
        "def mp4(name_fl, archivos,path):\n",
        "  lista_mult_mp4 = []\n",
        "  for x in range(0, len(archivos)):\n",
        "      nomArchivo = archivos[x]\n",
        "      dirArchivo = path + str(nomArchivo)\n",
        "      lista_mult_mp4.append(dirArchivo)\n",
        "\n",
        "  img_array_mp4 = []\n",
        "  for x in lista_mult_mp4:\n",
        "      img = cv2.imread(x)\n",
        "      img_array_mp4.append(img)\n",
        "\n",
        "  video = cv2.VideoWriter(\"./anki/\" + name_fl + \".mp4\", cv2.VideoWriter_fourcc(*'mp4v'), 2, (390,390))\n",
        "\n",
        "  for i in range(len(img_array_mp4)):\n",
        "    video.write(img_array_mp4[i])\n",
        "\n",
        "  video.release() \n",
        "\n",
        "mp4(name_fl,archivos,path)"
      ]
    },
    {
      "cell_type": "code",
      "execution_count": null,
      "metadata": {
        "id": "66ux9igIlIQG"
      },
      "outputs": [],
      "source": [
        "lista_multi = []\n",
        "for x in range(0, len(archivos)):\n",
        "    nomArchivo = archivos[x]\n",
        "    dirArchivo = path + str(nomArchivo)\n",
        "    lista_multi.append(dirArchivo)\n",
        "\n",
        "board_init = lista_multi[0]\n",
        "shutil.copy(board_init,\"./anki/\" + name_fl + \".png\")"
      ]
    },
    {
      "cell_type": "code",
      "execution_count": null,
      "metadata": {
        "id": "VEOQXw8VsjVh"
      },
      "outputs": [],
      "source": [
        "# Reset\n",
        "!rm -rf anki\n",
        "!rm -rf multimedia\n",
        "!rm -rf temp"
      ]
    },
    {
      "cell_type": "code",
      "execution_count": null,
      "metadata": {
        "id": "LUjYLdxke27v"
      },
      "outputs": [],
      "source": []
    }
  ],
  "metadata": {
    "colab": {
      "provenance": []
    },
    "kernelspec": {
      "display_name": "Python 3",
      "name": "python3"
    },
    "language_info": {
      "name": "python"
    }
  },
  "nbformat": 4,
  "nbformat_minor": 0
}